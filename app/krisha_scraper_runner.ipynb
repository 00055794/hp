{
 "cells": [
  {
   "cell_type": "markdown",
   "id": "834bec37",
   "metadata": {},
   "source": [
    "# Krisha.kz Scraper Runner\n",
    "\n",
    "This notebook uses the scraper defined in `app/krisha_parser.py` to collect listings from krisha.kz and extract structured features, including YEAR, LONGITUDE, LATITUDE, TOTAL AREA, ROOMS, FLOOR, TOTAL_FLOORS, FURNITURE, CONDITION, CEILING, MATERIAL, CITY and more.\n",
    "\n",
    "Notes:\n",
    "- Use respectful rates and avoid excessive requests.\n",
    "- Set `pages` and `max_listings` to small numbers while testing.\n",
    "- The scraper relies on the current site structure and may need tweaks over time."
   ]
  },
  {
   "cell_type": "code",
   "execution_count": 5,
   "id": "e383bb00",
   "metadata": {},
   "outputs": [
    {
     "name": "stdout",
     "output_type": "stream",
     "text": [
      "3.11.5 | packaged by Anaconda, Inc. | (main, Sep 11 2023, 13:26:23) [MSC v.1916 64 bit (AMD64)]\n",
      "Pandas install check failed: C extension: pandas.compat._constants not built. If you want to import pandas from the source directory, you may need to run 'python setup.py build_ext' to build the C extensions first.\n",
      "Pandas install check failed: C extension: pandas.compat._constants not built. If you want to import pandas from the source directory, you may need to run 'python setup.py build_ext' to build the C extensions first.\n"
     ]
    }
   ],
   "source": [
    "# Install a pandas version compatible with current NumPy (fixes binary mismatch errors)\n",
    "import sys, os, subprocess\n",
    "print(sys.version)\n",
    "try:\n",
    "    # Pandas 2.2.x supports NumPy 2.x; pick a stable patch\n",
    "    subprocess.run([sys.executable, \"-m\", \"pip\", \"install\", \"-q\", \"pandas==2.2.3\"], check=False)\n",
    "    import pandas as _pd\n",
    "    print(\"pandas\", _pd.__version__, \"ready\")\n",
    "except Exception as e:\n",
    "    print(\"Pandas install check failed:\", e)"
   ]
  },
  {
   "cell_type": "code",
   "execution_count": 6,
   "id": "3c6cd63f",
   "metadata": {},
   "outputs": [
    {
     "name": "stdout",
     "output_type": "stream",
     "text": [
      "Unexpected exception formatting exception. Falling back to standard exception\n"
     ]
    },
    {
     "name": "stderr",
     "output_type": "stream",
     "text": [
      "Traceback (most recent call last):\n",
      "  File \"c:\\Users\\00055794\\AppData\\Local\\anaconda3__\\Lib\\site-packages\\pandas\\__init__.py\", line 39, in <module>\n",
      "    from pandas.compat import (\n",
      "  File \"c:\\Users\\00055794\\AppData\\Local\\anaconda3__\\Lib\\site-packages\\pandas\\compat\\__init__.py\", line 17, in <module>\n",
      "    from pandas.compat._constants import (\n",
      "ImportError: cannot import name 'ISMUSL' from 'pandas.compat._constants' (c:\\Users\\00055794\\AppData\\Local\\anaconda3__\\Lib\\site-packages\\pandas\\compat\\_constants.py)\n",
      "\n",
      "The above exception was the direct cause of the following exception:\n",
      "\n",
      "Traceback (most recent call last):\n",
      "  File \"c:\\Users\\00055794\\AppData\\Local\\anaconda3__\\Lib\\site-packages\\IPython\\core\\interactiveshell.py\", line 3526, in run_code\n",
      "    exec(code_obj, self.user_global_ns, self.user_ns)\n",
      "  File \"C:\\Users\\00055794\\AppData\\Local\\Temp\\ipykernel_24172\\3988191431.py\", line 6, in <module>\n",
      "    from krisha_parser import KrishaScraper\n",
      "  File \"c:\\Users\\00055794\\Desktop\\Gulnaz\\PROJECTS\\House_Prices\\102025\\app\\krisha_parser.py\", line 9, in <module>\n",
      "    import pandas as pd\n",
      "  File \"c:\\Users\\00055794\\AppData\\Local\\anaconda3__\\Lib\\site-packages\\pandas\\__init__.py\", line 44, in <module>\n",
      "    raise ImportError(\n",
      "ImportError: C extension: pandas.compat._constants not built. If you want to import pandas from the source directory, you may need to run 'python setup.py build_ext' to build the C extensions first.\n",
      "\n",
      "During handling of the above exception, another exception occurred:\n",
      "\n",
      "Traceback (most recent call last):\n",
      "  File \"c:\\Users\\00055794\\AppData\\Local\\anaconda3__\\Lib\\site-packages\\IPython\\core\\interactiveshell.py\", line 2120, in showtraceback\n",
      "    stb = self.InteractiveTB.structured_traceback(\n",
      "          ^^^^^^^^^^^^^^^^^^^^^^^^^^^^^^^^^^^^^^^^\n",
      "  File \"c:\\Users\\00055794\\AppData\\Local\\anaconda3__\\Lib\\site-packages\\IPython\\core\\ultratb.py\", line 1435, in structured_traceback\n",
      "    return FormattedTB.structured_traceback(\n",
      "           ^^^^^^^^^^^^^^^^^^^^^^^^^^^^^^^^^\n",
      "  File \"c:\\Users\\00055794\\AppData\\Local\\anaconda3__\\Lib\\site-packages\\IPython\\core\\ultratb.py\", line 1326, in structured_traceback\n",
      "    return VerboseTB.structured_traceback(\n",
      "           ^^^^^^^^^^^^^^^^^^^^^^^^^^^^^^^\n",
      "  File \"c:\\Users\\00055794\\AppData\\Local\\anaconda3__\\Lib\\site-packages\\IPython\\core\\ultratb.py\", line 1173, in structured_traceback\n",
      "    formatted_exception = self.format_exception_as_a_whole(etype, evalue, etb, number_of_lines_of_context,\n",
      "                          ^^^^^^^^^^^^^^^^^^^^^^^^^^^^^^^^^^^^^^^^^^^^^^^^^^^^^^^^^^^^^^^^^^^^^^^^^^^^^^^^\n",
      "  File \"c:\\Users\\00055794\\AppData\\Local\\anaconda3__\\Lib\\site-packages\\IPython\\core\\ultratb.py\", line 1088, in format_exception_as_a_whole\n",
      "    frames.append(self.format_record(record))\n",
      "                  ^^^^^^^^^^^^^^^^^^^^^^^^^^\n",
      "  File \"c:\\Users\\00055794\\AppData\\Local\\anaconda3__\\Lib\\site-packages\\IPython\\core\\ultratb.py\", line 970, in format_record\n",
      "    frame_info.lines, Colors, self.has_colors, lvals\n",
      "    ^^^^^^^^^^^^^^^^\n",
      "  File \"c:\\Users\\00055794\\AppData\\Local\\anaconda3__\\Lib\\site-packages\\IPython\\core\\ultratb.py\", line 792, in lines\n",
      "    return self._sd.lines\n",
      "           ^^^^^^^^^^^^^^\n",
      "  File \"c:\\Users\\00055794\\AppData\\Local\\anaconda3__\\Lib\\site-packages\\stack_data\\utils.py\", line 145, in cached_property_wrapper\n",
      "    value = obj.__dict__[self.func.__name__] = self.func(obj)\n",
      "                                               ^^^^^^^^^^^^^^\n",
      "  File \"c:\\Users\\00055794\\AppData\\Local\\anaconda3__\\Lib\\site-packages\\stack_data\\core.py\", line 698, in lines\n",
      "    pieces = self.included_pieces\n",
      "             ^^^^^^^^^^^^^^^^^^^^\n",
      "  File \"c:\\Users\\00055794\\AppData\\Local\\anaconda3__\\Lib\\site-packages\\stack_data\\utils.py\", line 145, in cached_property_wrapper\n",
      "    value = obj.__dict__[self.func.__name__] = self.func(obj)\n",
      "                                               ^^^^^^^^^^^^^^\n",
      "  File \"c:\\Users\\00055794\\AppData\\Local\\anaconda3__\\Lib\\site-packages\\stack_data\\core.py\", line 649, in included_pieces\n",
      "    pos = scope_pieces.index(self.executing_piece)\n",
      "                             ^^^^^^^^^^^^^^^^^^^^\n",
      "  File \"c:\\Users\\00055794\\AppData\\Local\\anaconda3__\\Lib\\site-packages\\stack_data\\utils.py\", line 145, in cached_property_wrapper\n",
      "    value = obj.__dict__[self.func.__name__] = self.func(obj)\n",
      "                                               ^^^^^^^^^^^^^^\n",
      "  File \"c:\\Users\\00055794\\AppData\\Local\\anaconda3__\\Lib\\site-packages\\stack_data\\core.py\", line 628, in executing_piece\n",
      "    return only(\n",
      "           ^^^^^\n",
      "  File \"c:\\Users\\00055794\\AppData\\Local\\anaconda3__\\Lib\\site-packages\\executing\\executing.py\", line 164, in only\n",
      "    raise NotOneValueFound('Expected one value, found 0')\n",
      "executing.executing.NotOneValueFound: Expected one value, found 0\n"
     ]
    }
   ],
   "source": [
    "# Make the 'app' folder importable and import the scraper\n",
    "import sys, os\n",
    "app_path = os.path.join(os.getcwd(), 'app')\n",
    "if app_path not in sys.path:\n",
    "    sys.path.insert(0, app_path)\n",
    "from krisha_parser import KrishaScraper\n",
    "print('KrishaScraper imported from', app_path)"
   ]
  },
  {
   "cell_type": "code",
   "execution_count": null,
   "id": "15bba57f",
   "metadata": {},
   "outputs": [],
   "source": [
    "# Configure scraping parameters\n",
    "search_url = 'https://krisha.kz/prodazha/kvartiry/almaty/'  # Replace with your filtered search URL\n",
    "pages = 1                 # Number of result pages to scan\n",
    "max_listings = 20         # Stop after N listings (None to scrape all found)\n",
    "delay_range = (1.0, 2.5)  # Polite random delay between requests (seconds)\n",
    "output_path = 'krisha_listings.csv'  # .csv or .parquet"
   ]
  },
  {
   "cell_type": "code",
   "execution_count": null,
   "id": "f3340f10",
   "metadata": {},
   "outputs": [],
   "source": [
    "# Run the scraper\n",
    "scraper = KrishaScraper(delay_range=delay_range)\n",
    "df = scraper.scrape(search_url, pages=pages, max_listings=max_listings)\n",
    "print(f'Scraped {len(df)} rows')\n",
    "df.head(10)"
   ]
  },
  {
   "cell_type": "code",
   "execution_count": null,
   "id": "5f4ecb83",
   "metadata": {},
   "outputs": [],
   "source": [
    "# Save results to CSV or Parquet\n",
    "from pathlib import Path\n",
    "out = Path(output_path)\n",
    "out.parent.mkdir(parents=True, exist_ok=True)\n",
    "if out.suffix.lower() == '.parquet':\n",
    "    df.to_parquet(out, index=False)\n",
    "else:\n",
    "    df.to_csv(out, index=False)\n",
    "print(f'Saved to {out.resolve()}')"
   ]
  },
  {
   "cell_type": "code",
   "execution_count": null,
   "id": "3045b965",
   "metadata": {},
   "outputs": [],
   "source": [
    "# Quick feature sanity check\n",
    "requested = ['YEAR','LONGITUDE','LATITUDE','TOTAL AREA','ROOMS','FLOOR','TOTAL_FLOORS','FURNITURE','CONDITION','CEILING','MATERIAL','CITY']\n",
    "print('Columns:', sorted(df.columns))\n",
    "print('Missing requested features:', [c for c in requested if c not in df.columns])\n",
    "df[requested].head(10) if all(c in df.columns for c in requested) else df.head(5)"
   ]
  },
  {
   "cell_type": "code",
   "execution_count": null,
   "id": "2865bb55",
   "metadata": {},
   "outputs": [],
   "source": [
    "# Optional: run the CLI from inside the notebook (uncomment to use)\n",
    "# import sys, subprocess\n",
    "# cmd = [sys.executable, \"app/scrape_krisha.py\", search_url, \"--pages\", str(pages), \"--max-listings\", str(max_listings), \"--out\", output_path]\n",
    "# print(\"Running:\", \" \".join(cmd))\n",
    "# subprocess.run(cmd, check=True)"
   ]
  }
 ],
 "metadata": {
  "kernelspec": {
   "display_name": "base",
   "language": "python",
   "name": "python3"
  },
  "language_info": {
   "codemirror_mode": {
    "name": "ipython",
    "version": 3
   },
   "file_extension": ".py",
   "mimetype": "text/x-python",
   "name": "python",
   "nbconvert_exporter": "python",
   "pygments_lexer": "ipython3",
   "version": "3.11.5"
  }
 },
 "nbformat": 4,
 "nbformat_minor": 5
}
